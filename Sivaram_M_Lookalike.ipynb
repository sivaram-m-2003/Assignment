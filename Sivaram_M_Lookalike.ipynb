{
  "nbformat": 4,
  "nbformat_minor": 0,
  "metadata": {
    "colab": {
      "provenance": [],
      "mount_file_id": "1qprItfetvKHTPoAsJCFHWwH9AWXZxAIy",
      "authorship_tag": "ABX9TyMqVlU3X1soFPFqUkPJVS+K",
      "include_colab_link": true
    },
    "kernelspec": {
      "name": "python3",
      "display_name": "Python 3"
    },
    "language_info": {
      "name": "python"
    }
  },
  "cells": [
    {
      "cell_type": "markdown",
      "metadata": {
        "id": "view-in-github",
        "colab_type": "text"
      },
      "source": [
        "<a href=\"https://colab.research.google.com/github/sivaram-m-2003/Assignment/blob/main/Sivaram_M_Lookalike.ipynb\" target=\"_parent\"><img src=\"https://colab.research.google.com/assets/colab-badge.svg\" alt=\"Open In Colab\"/></a>"
      ]
    },
    {
      "cell_type": "code",
      "execution_count": null,
      "metadata": {
        "colab": {
          "base_uri": "https://localhost:8080/"
        },
        "id": "syREkH_I_xMn",
        "outputId": "66dd0cad-b336-4a3a-ede9-e63bf3b0ae58"
      },
      "outputs": [
        {
          "output_type": "stream",
          "name": "stdout",
          "text": [
            "   CustomerID                                            Recommendations\n",
            "0       C0001  [('C0097', 0.5477), ('C0194', 0.4697), ('C0199', 0.4382)]\n",
            "1       C0002  [('C0030', 0.3728), ('C0091', 0.3339), ('C0071', 0.3299)]\n",
            "2       C0003     [('C0134', 0.5199), ('C0181', 0.5176), ('C0144', 0.4)]\n",
            "3       C0004  [('C0070', 0.4989), ('C0132', 0.4382), ('C0063', 0.3361)]\n",
            "4       C0005  [('C0096', 0.6482), ('C0055', 0.5145), ('C0064', 0.3329)]\n",
            "5       C0006  [('C0058', 0.6489), ('C0040', 0.6295), ('C0178', 0.3746)]\n",
            "6       C0007  [('C0020', 0.5883), ('C0079', 0.4961), ('C0026', 0.3631)]\n",
            "7       C0008  [('C0144', 0.3922), ('C0088', 0.3397), ('C0003', 0.3138)]\n",
            "8       C0009  [('C0140', 0.5601), ('C0162', 0.5133), ('C0062', 0.4951)]\n",
            "9       C0010  [('C0033', 0.4867), ('C0077', 0.4248), ('C0094', 0.4059)]\n",
            "10      C0011  [('C0135', 0.4842), ('C0120', 0.3568), ('C0173', 0.3308)]\n",
            "11      C0012  [('C0164', 0.4529), ('C0052', 0.4086), ('C0173', 0.3578)]\n",
            "12      C0013   [('C0058', 0.5345), ('C0040', 0.5186), ('C0169', 0.441)]\n",
            "13      C0014  [('C0128', 0.8944), ('C0159', 0.7845), ('C0136', 0.4619)]\n",
            "14      C0015  [('C0073', 0.6325), ('C0036', 0.6068), ('C0059', 0.4568)]\n",
            "15      C0016  [('C0187', 0.6449), ('C0064', 0.4611), ('C0145', 0.3954)]\n",
            "16      C0017  [('C0037', 0.3989), ('C0071', 0.3849), ('C0183', 0.3457)]\n",
            "17      C0018  [('C0177', 0.3939), ('C0064', 0.3567), ('C0081', 0.3503)]\n",
            "18      C0019   [('C0083', 0.4899), ('C0064', 0.488), ('C0039', 0.4648)]\n",
            "19      C0020  [('C0026', 0.6172), ('C0007', 0.5883), ('C0104', 0.4887)]\n"
          ]
        }
      ],
      "source": [
        "import pandas as pd\n",
        "from sklearn.metrics.pairwise import cosine_similarity\n",
        "import numpy as np\n",
        "\n",
        "customers = pd.read_csv(\"Customers.csv\")\n",
        "products = pd.read_csv(\"Products.csv\")\n",
        "transactions = pd.read_csv(\"Transactions.csv\")\n",
        "\n",
        "merged = transactions.merge(customers, on=\"CustomerID\").merge(products, on=\"ProductID\")\n",
        "\n",
        "customer_product_matrix = merged.pivot_table(\n",
        "    index='CustomerID',\n",
        "    columns='ProductID',\n",
        "    values='Quantity',\n",
        "    aggfunc='sum',\n",
        "    fill_value=0\n",
        ")\n",
        "similarity_matrix = cosine_similarity(customer_product_matrix)\n",
        "\n",
        "customer_ids = customer_product_matrix.index.tolist()\n",
        "\n",
        "lookalike_results = {}\n",
        "\n",
        "for i, cust_id in enumerate(customer_ids[:20]):\n",
        "    similarities = list(enumerate(similarity_matrix[i]))\n",
        "    similarities = sorted(similarities, key=lambda x: x[1], reverse=True)\n",
        "    top_3 = [(customer_ids[j], round(score, 4)) for j, score in similarities[1:4]]\n",
        "    lookalike_results[cust_id] = top_3\n",
        "\n",
        "lookalike_df = pd.DataFrame({\n",
        "    \"CustomerID\": lookalike_results.keys(),\n",
        "    \"Recommendations\": [str(rec) for rec in lookalike_results.values()]\n",
        "})\n",
        "\n",
        "lookalike_df.to_csv(\"Sivaram_M_Lookalike.csv\", index=False)\n",
        "\n",
        "print(lookalike_df.head(20))\n"
      ]
    },
    {
      "cell_type": "code",
      "source": [
        "from IPython.display import FileLink\n",
        "\n",
        "FileLink(r'Sivaram_M_Lookalike.csv')\n"
      ],
      "metadata": {
        "colab": {
          "base_uri": "https://localhost:8080/",
          "height": 34
        },
        "id": "v0ciIUVPMZ72",
        "outputId": "d76e654a-ec8f-4e1f-a1e3-0042e2b52a6d"
      },
      "execution_count": null,
      "outputs": [
        {
          "output_type": "execute_result",
          "data": {
            "text/plain": [
              "/content/Sivaram_M_Lookalike.csv"
            ],
            "text/html": [
              "<a href='Sivaram_M_Lookalike.csv' target='_blank'>Sivaram_M_Lookalike.csv</a><br>"
            ]
          },
          "metadata": {},
          "execution_count": 12
        }
      ]
    },
    {
      "cell_type": "code",
      "source": [
        "from google.colab import files\n",
        "files.download('Sivaram_M_Lookalike.csv')\n"
      ],
      "metadata": {
        "colab": {
          "base_uri": "https://localhost:8080/",
          "height": 17
        },
        "id": "ttW2Z-IhMgiz",
        "outputId": "c9d6fd5e-f5f8-4fdd-a26e-d2dc6e11b952"
      },
      "execution_count": null,
      "outputs": [
        {
          "output_type": "display_data",
          "data": {
            "text/plain": [
              "<IPython.core.display.Javascript object>"
            ],
            "application/javascript": [
              "\n",
              "    async function download(id, filename, size) {\n",
              "      if (!google.colab.kernel.accessAllowed) {\n",
              "        return;\n",
              "      }\n",
              "      const div = document.createElement('div');\n",
              "      const label = document.createElement('label');\n",
              "      label.textContent = `Downloading \"${filename}\": `;\n",
              "      div.appendChild(label);\n",
              "      const progress = document.createElement('progress');\n",
              "      progress.max = size;\n",
              "      div.appendChild(progress);\n",
              "      document.body.appendChild(div);\n",
              "\n",
              "      const buffers = [];\n",
              "      let downloaded = 0;\n",
              "\n",
              "      const channel = await google.colab.kernel.comms.open(id);\n",
              "      // Send a message to notify the kernel that we're ready.\n",
              "      channel.send({})\n",
              "\n",
              "      for await (const message of channel.messages) {\n",
              "        // Send a message to notify the kernel that we're ready.\n",
              "        channel.send({})\n",
              "        if (message.buffers) {\n",
              "          for (const buffer of message.buffers) {\n",
              "            buffers.push(buffer);\n",
              "            downloaded += buffer.byteLength;\n",
              "            progress.value = downloaded;\n",
              "          }\n",
              "        }\n",
              "      }\n",
              "      const blob = new Blob(buffers, {type: 'application/binary'});\n",
              "      const a = document.createElement('a');\n",
              "      a.href = window.URL.createObjectURL(blob);\n",
              "      a.download = filename;\n",
              "      div.appendChild(a);\n",
              "      a.click();\n",
              "      div.remove();\n",
              "    }\n",
              "  "
            ]
          },
          "metadata": {}
        },
        {
          "output_type": "display_data",
          "data": {
            "text/plain": [
              "<IPython.core.display.Javascript object>"
            ],
            "application/javascript": [
              "download(\"download_7596b4ec-2576-4b32-b29d-92275305f8bc\", \"Sivaram_M_Lookalike.csv\", 1342)"
            ]
          },
          "metadata": {}
        }
      ]
    }
  ]
}